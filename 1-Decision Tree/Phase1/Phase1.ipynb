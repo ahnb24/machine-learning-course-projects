{
 "cells": [
  {
   "cell_type": "markdown",
   "metadata": {},
   "source": [
    "# Homework: Decision Tree\n",
    "## Phase 1: Implementing the ID3 Decision Tree Algorithm\n",
    "***"
   ]
  },
  {
   "cell_type": "markdown",
   "metadata": {},
   "source": [
    "## Import Libraries"
   ]
  },
  {
   "cell_type": "code",
   "execution_count": 1,
   "metadata": {
    "execution": {
     "iopub.execute_input": "2022-10-23T17:47:19.294281Z",
     "iopub.status.busy": "2022-10-23T17:47:19.293652Z",
     "iopub.status.idle": "2022-10-23T17:47:19.297578Z",
     "shell.execute_reply": "2022-10-23T17:47:19.298190Z"
    },
    "papermill": {
     "duration": 0.017717,
     "end_time": "2022-10-23T17:47:19.298506",
     "exception": false,
     "start_time": "2022-10-23T17:47:19.280789",
     "status": "completed"
    },
    "tags": []
   },
   "outputs": [],
   "source": [
    "# complete\n",
    "import numpy as np\n",
    "import pandas as pd\n",
    "import csv\n",
    "import random as rnd"
   ]
  },
  {
   "cell_type": "markdown",
   "metadata": {},
   "source": [
    "## Load Dataset (CSV file)"
   ]
  },
  {
   "cell_type": "code",
   "execution_count": 2,
   "metadata": {
    "execution": {
     "iopub.execute_input": "2022-10-23T17:47:19.320031Z",
     "iopub.status.busy": "2022-10-23T17:47:19.319427Z",
     "iopub.status.idle": "2022-10-23T17:47:19.342312Z",
     "shell.execute_reply": "2022-10-23T17:47:19.341606Z"
    },
    "papermill": {
     "duration": 0.034366,
     "end_time": "2022-10-23T17:47:19.342460",
     "exception": false,
     "start_time": "2022-10-23T17:47:19.308094",
     "status": "completed"
    },
    "tags": []
   },
   "outputs": [],
   "source": [
    "# complete\n",
    "train_data = pd.read_csv('PlayTennis_train.csv')\n",
    "test_data = pd.read_csv('PlayTennis_test.csv')"
   ]
  },
  {
   "cell_type": "code",
   "execution_count": 3,
   "metadata": {
    "execution": {
     "iopub.execute_input": "2022-10-23T17:47:19.372232Z",
     "iopub.status.busy": "2022-10-23T17:47:19.371594Z",
     "iopub.status.idle": "2022-10-23T17:47:19.390276Z",
     "shell.execute_reply": "2022-10-23T17:47:19.389733Z"
    },
    "papermill": {
     "duration": 0.038811,
     "end_time": "2022-10-23T17:47:19.390420",
     "exception": false,
     "start_time": "2022-10-23T17:47:19.351609",
     "status": "completed"
    },
    "tags": []
   },
   "outputs": [
    {
     "name": "stdout",
     "output_type": "stream",
     "text": [
      "(num_rows , num_columns) :(14, 5)\n",
      "features : \n",
      "0        Sunny\n",
      "1        Sunny\n",
      "2     Overcast\n",
      "3         Rain\n",
      "4         Rain\n",
      "5         Rain\n",
      "6     Overcast\n",
      "7        Sunny\n",
      "8        Sunny\n",
      "9         Rain\n",
      "10       Sunny\n",
      "11    Overcast\n",
      "12    Overcast\n",
      "13        Rain\n",
      "Name: Outlook, dtype: object\n",
      "0       Weak\n",
      "1     Strong\n",
      "2       Weak\n",
      "3       Weak\n",
      "4       Weak\n",
      "5     Strong\n",
      "6     Strong\n",
      "7       Weak\n",
      "8       Weak\n",
      "9       Weak\n",
      "10    Strong\n",
      "11    Strong\n",
      "12      Weak\n",
      "13    Strong\n",
      "Name: Wind, dtype: object\n",
      "0       High\n",
      "1       High\n",
      "2       High\n",
      "3       High\n",
      "4     Normal\n",
      "5     Normal\n",
      "6     Normal\n",
      "7       High\n",
      "8     Normal\n",
      "9     Normal\n",
      "10    Normal\n",
      "11      High\n",
      "12    Normal\n",
      "13      High\n",
      "Name: Humidity, dtype: object\n",
      "0      Hot\n",
      "1      Hot\n",
      "2      Hot\n",
      "3     Mild\n",
      "4     Cool\n",
      "5     Cool\n",
      "6     Cool\n",
      "7     Mild\n",
      "8     Cool\n",
      "9     Mild\n",
      "10    Mild\n",
      "11    Mild\n",
      "12     Hot\n",
      "13    Mild\n",
      "Name: Temperature, dtype: object\n",
      "label :\n",
      "0      No\n",
      "1      No\n",
      "2     Yes\n",
      "3     Yes\n",
      "4     Yes\n",
      "5      No\n",
      "6     Yes\n",
      "7      No\n",
      "8     Yes\n",
      "9     Yes\n",
      "10    Yes\n",
      "11    Yes\n",
      "12    Yes\n",
      "13     No\n",
      "Name: Play Tennis, dtype: object\n",
      "\n",
      "num of calsses(Yes and NO) :2\n"
     ]
    }
   ],
   "source": [
    "num_rows , num_columns = train_data.shape\n",
    "print(f'(num_rows , num_columns) :{num_rows , num_columns}')\n",
    "print(f'features : \\n{train_data[\"Outlook\"]}\\n{train_data[\"Wind\"]}\\n{train_data[\"Humidity\"]}\\n{train_data[\"Temperature\"]}')\n",
    "print(f'label :\\n{train_data[\"Play Tennis\"]}')\n",
    "print(f'\\nnum of calsses(Yes and NO) :2')"
   ]
  },
  {
   "cell_type": "markdown",
   "metadata": {},
   "source": [
    "## Calculating the entropy of the whole dataset"
   ]
  },
  {
   "cell_type": "code",
   "execution_count": 4,
   "metadata": {
    "execution": {
     "iopub.execute_input": "2022-10-23T17:47:19.416708Z",
     "iopub.status.busy": "2022-10-23T17:47:19.415720Z",
     "iopub.status.idle": "2022-10-23T17:47:19.418888Z",
     "shell.execute_reply": "2022-10-23T17:47:19.418275Z"
    },
    "papermill": {
     "duration": 0.018608,
     "end_time": "2022-10-23T17:47:19.419033",
     "exception": false,
     "start_time": "2022-10-23T17:47:19.400425",
     "status": "completed"
    },
    "tags": []
   },
   "outputs": [],
   "source": [
    "def calc_total_entropy(train_data :pd.DataFrame, label, class_list):\n",
    "    # complete\n",
    "    total_row = train_data.shape[0] #the total size of the dataset (training samples)\n",
    "    total_entr = 0\n",
    "    \n",
    "    for c in class_list: \n",
    "        class_count = train_data[train_data[label] == c].shape[0] #number of samples for each output class attribute\n",
    "        p = class_count/total_row\n",
    "        if (p == 0) : \n",
    "            total_entr += 0\n",
    "        else :\n",
    "            total_entr += (-p)*np.log2(p) #adding to the total entropy\n",
    "    \n",
    "    return total_entr"
   ]
  },
  {
   "cell_type": "markdown",
   "metadata": {},
   "source": [
    "## Calculating the entropy for a feature"
   ]
  },
  {
   "cell_type": "code",
   "execution_count": 5,
   "metadata": {
    "execution": {
     "iopub.execute_input": "2022-10-23T17:47:19.445583Z",
     "iopub.status.busy": "2022-10-23T17:47:19.444935Z",
     "iopub.status.idle": "2022-10-23T17:47:19.447923Z",
     "shell.execute_reply": "2022-10-23T17:47:19.447420Z"
    },
    "papermill": {
     "duration": 0.018996,
     "end_time": "2022-10-23T17:47:19.448073",
     "exception": false,
     "start_time": "2022-10-23T17:47:19.429077",
     "status": "completed"
    },
    "tags": []
   },
   "outputs": [],
   "source": [
    "def calc_entropy(data :pd.DataFrame, feature, feature_value, label, class_list):\n",
    "    # complete\n",
    "    feature_value_data = data[data[feature] == feature_value]   # finding samples that their choosen feature has the choosen feature_value\n",
    "    class_count = feature_value_data.shape[0]    \n",
    "    entropy = 0\n",
    "    \n",
    "    for c in class_list:\n",
    "        label_class_count = feature_value_data[feature_value_data[label] == c].shape[0] # how many of each output class attribute in the sliced datas\n",
    "        if label_class_count != 0:\n",
    "            entropy += (-label_class_count/class_count)* np.log2(label_class_count/class_count) # calculating entropy for each output class attribute\n",
    "    return entropy"
   ]
  },
  {
   "cell_type": "markdown",
   "metadata": {},
   "source": [
    "## Calculating information gain for a feature"
   ]
  },
  {
   "cell_type": "code",
   "execution_count": 6,
   "metadata": {
    "execution": {
     "iopub.execute_input": "2022-10-23T17:47:19.474493Z",
     "iopub.status.busy": "2022-10-23T17:47:19.473864Z",
     "iopub.status.idle": "2022-10-23T17:47:19.476826Z",
     "shell.execute_reply": "2022-10-23T17:47:19.476192Z"
    },
    "papermill": {
     "duration": 0.018787,
     "end_time": "2022-10-23T17:47:19.476971",
     "exception": false,
     "start_time": "2022-10-23T17:47:19.458184",
     "status": "completed"
    },
    "tags": []
   },
   "outputs": [],
   "source": [
    "def calc_info_gain(feature_name, data :pd.DataFrame, label, class_list):\n",
    "    # complete\n",
    "    feature_value_list = data[feature_name].unique() #unqiue values of the feature (finding all the values of the feature)\n",
    "    total_row = data.shape[0]\n",
    "    feature_info = 0.0\n",
    "    \n",
    "    for feature_value in feature_value_list:\n",
    "        feature_value_data = data[data[feature_name] == feature_value] #filtering rows with that feature_value\n",
    "        feature_value_count = feature_value_data.shape[0]   # number of datas with the desired feature_value\n",
    "        feature_entropy = calc_entropy(data,feature_name,feature_value, label, class_list) #calculcating entropy for the feature value\n",
    "        feature_value_probability = feature_value_count/total_row\n",
    "        feature_info += feature_value_probability * feature_entropy #calculating IG of the feature\n",
    "        \n",
    "    return calc_total_entropy(data, label, class_list) - feature_info #calculating information gain of the feature by subtracting"
   ]
  },
  {
   "cell_type": "markdown",
   "metadata": {},
   "source": [
    "## Finding the most informative feature (feature with highest information gain)"
   ]
  },
  {
   "cell_type": "code",
   "execution_count": 7,
   "metadata": {
    "execution": {
     "iopub.execute_input": "2022-10-23T17:47:19.503001Z",
     "iopub.status.busy": "2022-10-23T17:47:19.502356Z",
     "iopub.status.idle": "2022-10-23T17:47:19.505392Z",
     "shell.execute_reply": "2022-10-23T17:47:19.504885Z"
    },
    "papermill": {
     "duration": 0.018374,
     "end_time": "2022-10-23T17:47:19.505532",
     "exception": false,
     "start_time": "2022-10-23T17:47:19.487158",
     "status": "completed"
    },
    "tags": []
   },
   "outputs": [],
   "source": [
    "def find_most_informative_feature(train_data :pd.DataFrame, label, class_list):\n",
    "    # complete\n",
    "    feature_list = train_data.columns.drop(label) #finding the feature names in the dataset, label is not a feature, so dropping it\n",
    "    max_info_gain = -1\n",
    "    max_info_feature = None\n",
    "    \n",
    "    for feature in feature_list:  #for each feature in the dataset\n",
    "        feature_info_gain = calc_info_gain(feature, train_data, label, class_list)\n",
    "        if max_info_gain < feature_info_gain: #selecting feature name with highest information gain\n",
    "            max_info_gain = feature_info_gain\n",
    "            max_info_feature = feature\n",
    "            \n",
    "    return max_info_feature"
   ]
  },
  {
   "cell_type": "markdown",
   "metadata": {},
   "source": [
    "## Adding a node to the tree"
   ]
  },
  {
   "cell_type": "code",
   "execution_count": 8,
   "metadata": {
    "execution": {
     "iopub.execute_input": "2022-10-23T17:47:19.533817Z",
     "iopub.status.busy": "2022-10-23T17:47:19.533185Z",
     "iopub.status.idle": "2022-10-23T17:47:19.536646Z",
     "shell.execute_reply": "2022-10-23T17:47:19.536154Z"
    },
    "papermill": {
     "duration": 0.0209,
     "end_time": "2022-10-23T17:47:19.536839",
     "exception": false,
     "start_time": "2022-10-23T17:47:19.515939",
     "status": "completed"
    },
    "tags": []
   },
   "outputs": [],
   "source": [
    "def generate_sub_tree(feature_name, train_data :pd.DataFrame, label, class_list):\n",
    "    tree = {} #sub tree or node\n",
    "    feature_value_count_dict = train_data[feature_name].value_counts(sort=False) #dictionary of the count of unqiue feature value\n",
    "    \n",
    "    for feature_value, count in feature_value_count_dict.items():\n",
    "        feature_value_data = train_data[train_data[feature_name] == feature_value] #dataset with only feature_name = feature_value\n",
    "        \n",
    "        assigned_to_node = False #flag for tracking feature_value is pure class or not\n",
    "        for c in class_list: #for each class\n",
    "            class_count = feature_value_data[feature_value_data[label] == c].shape[0] #count of class c\n",
    "\n",
    "            if class_count == count: #count of (feature_value = count) of class (pure class)\n",
    "                assigned_to_node = True\n",
    "                tree[feature_value] = c     #adding node to the tree\n",
    "                train_data = train_data[train_data[feature_name] != feature_value]  #removing rows with feature_value\n",
    "        if not assigned_to_node: #not pure class\n",
    "            tree[feature_value] = \"?\" #as feature_value is not a pure class, it should be expanded further, so the branch is marking with ?\n",
    "    return tree, train_data"
   ]
  },
  {
   "cell_type": "markdown",
   "metadata": {},
   "source": [
    "##  Performing ID3 Algorithm and generating Tree"
   ]
  },
  {
   "cell_type": "code",
   "execution_count": 9,
   "metadata": {
    "execution": {
     "iopub.execute_input": "2022-10-23T17:47:19.565466Z",
     "iopub.status.busy": "2022-10-23T17:47:19.564798Z",
     "iopub.status.idle": "2022-10-23T17:47:19.567634Z",
     "shell.execute_reply": "2022-10-23T17:47:19.567009Z"
    },
    "papermill": {
     "duration": 0.020669,
     "end_time": "2022-10-23T17:47:19.567823",
     "exception": false,
     "start_time": "2022-10-23T17:47:19.547154",
     "status": "completed"
    },
    "tags": []
   },
   "outputs": [],
   "source": [
    "def make_tree(root, prev_feature, prev_feature_value, train_data, label, class_list, depth):\n",
    "    # complete\n",
    "    \n",
    "    depth-=1\n",
    "    if depth == -1:\n",
    "        for nodes, branch in root.items(): #iterating the tree node\n",
    "            if branch == \"?\": #if it is expandable\n",
    "                feature_value_data = train_data[train_data[prev_feature] == nodes] #using the updated dataset\n",
    "                max_count = 0\n",
    "                final_label = None\n",
    "                rnd.shuffle(class_list) # randomely ordering class lables\n",
    "                for c in class_list:\n",
    "                    class_count = feature_value_data[feature_value_data[label] == c].shape[0] #count of label c\n",
    "                    if class_count > max_count:     #finding the label which is repeated the most (assign it to final label of the branch) \n",
    "                        max_count = class_count\n",
    "                        final_label = c\n",
    "                    if final_label != None : \n",
    "                        root[nodes] = final_label                    \n",
    "        return root\n",
    "\n",
    "    elif train_data.shape[0] != 0: #if dataset becomes empty after updating\n",
    "        max_info_feature = find_most_informative_feature(train_data, label, class_list) #most informative feature\n",
    "        tree, train_data = generate_sub_tree(max_info_feature, train_data, label, class_list) #getting tree node and updated dataset\n",
    "        next_root = None\n",
    "        \n",
    "        if prev_feature_value != None: #add to the previous node of the tree\n",
    "            root[prev_feature_value] = dict()\n",
    "            root[prev_feature_value][max_info_feature] = tree\n",
    "            next_root = root[prev_feature_value][max_info_feature]\n",
    "        else: #add to root of the tree\n",
    "            root[max_info_feature] = tree\n",
    "            next_root = root[max_info_feature]    # initializing the next subtree\n",
    "\n",
    "        for nodes, branch in list(next_root.items()): #iterating the tree node\n",
    "            if branch == \"?\": #if it is expandable\n",
    "                feature_value_data = train_data[train_data[max_info_feature] == nodes] #using the updated dataset\n",
    "                make_tree(next_root, max_info_feature, nodes, feature_value_data, label, class_list, depth) #recursive call with updated dataset"
   ]
  },
  {
   "cell_type": "markdown",
   "metadata": {},
   "source": [
    "## Finding unique classes of the label and Starting the algorithm"
   ]
  },
  {
   "cell_type": "code",
   "execution_count": 10,
   "metadata": {
    "execution": {
     "iopub.execute_input": "2022-10-23T17:47:19.595497Z",
     "iopub.status.busy": "2022-10-23T17:47:19.594863Z",
     "iopub.status.idle": "2022-10-23T17:47:19.597806Z",
     "shell.execute_reply": "2022-10-23T17:47:19.597274Z"
    },
    "papermill": {
     "duration": 0.019467,
     "end_time": "2022-10-23T17:47:19.597973",
     "exception": false,
     "start_time": "2022-10-23T17:47:19.578506",
     "status": "completed"
    },
    "tags": []
   },
   "outputs": [],
   "source": [
    "def id3(train_data_m :pd.DataFrame, label, depth = None):\n",
    "    train_data = train_data_m.copy() #getting a copy of the dataset (not deleting rows from the actual dataset)\n",
    "    tree = {} #tree which will be updated\n",
    "    class_list = train_data[label].unique() #getting unqiue classes of the label\n",
    "    if depth == None:\n",
    "        depth = class_list.shape[0] + 1\n",
    "    make_tree(tree, None, None, train_data, label, class_list, depth) #start calling recursion\n",
    "    return tree"
   ]
  },
  {
   "cell_type": "markdown",
   "metadata": {},
   "source": [
    "## Predicting from the tree"
   ]
  },
  {
   "cell_type": "code",
   "execution_count": 11,
   "metadata": {
    "execution": {
     "iopub.execute_input": "2022-10-23T17:47:19.624911Z",
     "iopub.status.busy": "2022-10-23T17:47:19.624266Z",
     "iopub.status.idle": "2022-10-23T17:47:19.627375Z",
     "shell.execute_reply": "2022-10-23T17:47:19.626902Z"
    },
    "papermill": {
     "duration": 0.018973,
     "end_time": "2022-10-23T17:47:19.627528",
     "exception": false,
     "start_time": "2022-10-23T17:47:19.608555",
     "status": "completed"
    },
    "tags": []
   },
   "outputs": [],
   "source": [
    "def predict(tree, instance):\n",
    "    if not isinstance(tree, dict): #if it is leaf node\n",
    "        return tree #return the value\n",
    "    else:\n",
    "        root_node = next(iter(tree)) #getting first key/feature name of the dictionary\n",
    "        feature_value = instance[root_node] #value of the feature\n",
    "        if feature_value in tree[root_node]: #checking the feature value in current tree node\n",
    "            return predict(tree[root_node][feature_value], instance) #goto next feature\n",
    "        else:\n",
    "            return None"
   ]
  },
  {
   "cell_type": "markdown",
   "metadata": {},
   "source": [
    "## Evaluating test dataset"
   ]
  },
  {
   "cell_type": "code",
   "execution_count": 12,
   "metadata": {
    "execution": {
     "iopub.execute_input": "2022-10-23T17:47:19.655112Z",
     "iopub.status.busy": "2022-10-23T17:47:19.654473Z",
     "iopub.status.idle": "2022-10-23T17:47:19.657213Z",
     "shell.execute_reply": "2022-10-23T17:47:19.656603Z"
    },
    "papermill": {
     "duration": 0.018989,
     "end_time": "2022-10-23T17:47:19.657351",
     "exception": false,
     "start_time": "2022-10-23T17:47:19.638362",
     "status": "completed"
    },
    "tags": []
   },
   "outputs": [],
   "source": [
    "def evaluate(tree, test_data_m, label):\n",
    "    correct_preditct = 0\n",
    "    wrong_preditct = 0\n",
    "    for index, row in test_data_m.iterrows():\n",
    "        result = predict(tree, test_data_m.iloc[index])\n",
    "        if result == test_data_m[label].iloc[index]:\n",
    "            correct_preditct += 1\n",
    "        else:\n",
    "            wrong_preditct += 1\n",
    "    accuracy = correct_preditct / (correct_preditct + wrong_preditct)\n",
    "    return accuracy"
   ]
  },
  {
   "cell_type": "code",
   "execution_count": 13,
   "metadata": {
    "execution": {
     "iopub.execute_input": "2022-10-23T17:47:19.685926Z",
     "iopub.status.busy": "2022-10-23T17:47:19.685291Z",
     "iopub.status.idle": "2022-10-23T17:47:19.748164Z",
     "shell.execute_reply": "2022-10-23T17:47:19.748642Z"
    },
    "papermill": {
     "duration": 0.080082,
     "end_time": "2022-10-23T17:47:19.748865",
     "exception": false,
     "start_time": "2022-10-23T17:47:19.668783",
     "status": "completed"
    },
    "tags": []
   },
   "outputs": [
    {
     "name": "stdout",
     "output_type": "stream",
     "text": [
      "{'Outlook': {'Sunny': {'Humidity': {'High': 'No', 'Normal': 'Yes'}}, 'Overcast': 'Yes', 'Rain': {'Wind': {'Weak': 'Yes', 'Strong': 'No'}}}}\n"
     ]
    }
   ],
   "source": [
    "tree = id3(train_data, 'Play Tennis')\n",
    "print(tree)"
   ]
  },
  {
   "cell_type": "code",
   "execution_count": 14,
   "metadata": {
    "execution": {
     "iopub.execute_input": "2022-10-23T17:47:19.779792Z",
     "iopub.status.busy": "2022-10-23T17:47:19.779122Z",
     "iopub.status.idle": "2022-10-23T17:47:19.782450Z",
     "shell.execute_reply": "2022-10-23T17:47:19.781825Z"
    },
    "papermill": {
     "duration": 0.021038,
     "end_time": "2022-10-23T17:47:19.782593",
     "exception": false,
     "start_time": "2022-10-23T17:47:19.761555",
     "status": "completed"
    },
    "tags": []
   },
   "outputs": [
    {
     "name": "stdout",
     "output_type": "stream",
     "text": [
      "accuracy: 1.0\n"
     ]
    }
   ],
   "source": [
    "accuracy = evaluate(tree, test_data, 'Play Tennis')\n",
    "print(\"accuracy:\", accuracy)"
   ]
  },
  {
   "cell_type": "code",
   "execution_count": null,
   "metadata": {
    "papermill": {
     "duration": 0.011394,
     "end_time": "2022-10-23T17:47:19.806021",
     "exception": false,
     "start_time": "2022-10-23T17:47:19.794627",
     "status": "completed"
    },
    "tags": []
   },
   "outputs": [],
   "source": []
  }
 ],
 "metadata": {
  "kernelspec": {
   "display_name": "Python 3 (ipykernel)",
   "language": "python",
   "name": "python3"
  },
  "language_info": {
   "codemirror_mode": {
    "name": "ipython",
    "version": 3
   },
   "file_extension": ".py",
   "mimetype": "text/x-python",
   "name": "python",
   "nbconvert_exporter": "python",
   "pygments_lexer": "ipython3",
   "version": "3.10.11"
  },
  "papermill": {
   "default_parameters": {},
   "duration": 6.631128,
   "end_time": "2022-10-23T17:47:20.428183",
   "environment_variables": {},
   "exception": null,
   "input_path": "__notebook__.ipynb",
   "output_path": "__notebook__.ipynb",
   "parameters": {},
   "start_time": "2022-10-23T17:47:13.797055",
   "version": "2.2.2"
  }
 },
 "nbformat": 4,
 "nbformat_minor": 4
}
