{
  "nbformat": 4,
  "nbformat_minor": 0,
  "metadata": {
    "colab": {
      "provenance": []
    },
    "kernelspec": {
      "name": "python3",
      "display_name": "Python 3"
    },
    "language_info": {
      "name": "python"
    },
    "accelerator": "TPU"
  },
  "cells": [
    {
      "cell_type": "markdown",
      "source": [
        "# Q1"
      ],
      "metadata": {
        "id": "rBeLCiWBqLoY"
      }
    },
    {
      "cell_type": "code",
      "execution_count": 17,
      "metadata": {
        "id": "VJ4r5LjZp2Hz"
      },
      "outputs": [],
      "source": [
        "from sklearn.model_selection import train_test_split,GridSearchCV ,cross_val_score\n",
        "import numpy as np\n",
        "import pandas as pd\n",
        "from sklearn.svm import SVC ,SVR\n",
        "from sklearn.metrics import accuracy_score, mean_absolute_error, r2_score\n",
        "\n",
        "data = pd.read_csv('Prediction of students performance.csv')\n",
        "\n",
        "labels = data['Target']\n",
        "\n"
      ]
    },
    {
      "cell_type": "code",
      "source": [
        "X = data.drop('Target', axis=1)\n",
        "y = data['Target']\n",
        "\n",
        "# Split the data into training, validation, and test sets\n",
        "train_X, test_X, train_y, test_y = train_test_split(X, y, test_size=0.2, random_state=42)\n",
        "train_X, valid_X, train_y, valid_y = train_test_split(train_X, train_y, test_size=0.25, random_state=42)"
      ],
      "metadata": {
        "id": "MWPVZbBWqKPj"
      },
      "execution_count": 4,
      "outputs": []
    },
    {
      "cell_type": "markdown",
      "source": [
        "## A\n"
      ],
      "metadata": {
        "id": "hBGH5yNQqTTq"
      }
    },
    {
      "cell_type": "code",
      "source": [
        "# Train the linear SVM model\n",
        "svm_model = SVC(kernel='linear')\n",
        "svm_model.fit(train_X, train_y)\n",
        "\n",
        "# Predictions on training and test sets\n",
        "train_predictions = svm_model.predict(train_X)\n",
        "test_predictions = svm_model.predict(test_X)\n",
        "\n",
        "# Calculate accuracy on training and test sets\n",
        "train_accuracy = accuracy_score(train_y, train_predictions)\n",
        "test_accuracy = accuracy_score(test_y, test_predictions)\n",
        "\n",
        "# Number of support vectors\n",
        "support_vectors_count = len(svm_model.support_vectors_)\n",
        "\n",
        "# Print the results\n",
        "print(f\"Accuracy on training set: {train_accuracy:.2f}\")\n",
        "print(f\"Accuracy on test set: {test_accuracy:.2f}\")\n",
        "print(f\"Number of support vectors: {support_vectors_count}\")"
      ],
      "metadata": {
        "colab": {
          "base_uri": "https://localhost:8080/"
        },
        "id": "yhnY4HI6qSVP",
        "outputId": "278f23c8-86a5-4ed8-a69e-b012eac58aaa"
      },
      "execution_count": 3,
      "outputs": [
        {
          "output_type": "stream",
          "name": "stdout",
          "text": [
            "Accuracy on training set: 0.77\n",
            "Accuracy on test set: 0.74\n",
            "Number of support vectors: 1014\n"
          ]
        }
      ]
    },
    {
      "cell_type": "markdown",
      "source": [
        "## B\n"
      ],
      "metadata": {
        "id": "G4rv-obUqaIh"
      }
    },
    {
      "cell_type": "code",
      "source": [
        "svm_model = SVC(kernel='rbf', probability=True)\n",
        "\n",
        "# Define the parameter grid to search\n",
        "param_grid = {\n",
        "    'C': [1000 * 10**n for n in range(5)],\n",
        "    'gamma': [1e-10 * 10**n for n in range(3)]\n",
        "}\n",
        "\n",
        "# Use GridSearchCV to find the best parameters\n",
        "grid_search = GridSearchCV(svm_model, param_grid, cv=5, scoring='accuracy')\n",
        "grid_search.fit(valid_X, valid_y)\n",
        "\n",
        "# Get the best parameters\n",
        "best_params = grid_search.best_params_\n"
      ],
      "metadata": {
        "id": "hwy4PkBvqYtc"
      },
      "execution_count": 6,
      "outputs": []
    },
    {
      "cell_type": "code",
      "source": [
        "# Train the model with the best parameters on the entire training set\n",
        "best_svm_model = SVC(kernel='rbf', C=best_params['C'], gamma=best_params['gamma'], probability=True)\n",
        "best_svm_model.fit(train_X, train_y)\n",
        "\n",
        "# Predictions on training and test sets\n",
        "train_predictions = best_svm_model.predict(train_X)\n",
        "test_predictions = best_svm_model.predict(test_X)\n",
        "\n",
        "# Calculate accuracy on training and test sets\n",
        "train_accuracy = accuracy_score(train_y, train_predictions)\n",
        "test_accuracy = accuracy_score(test_y, test_predictions)\n",
        "\n",
        "# Number of support vectors\n",
        "support_vectors_count = len(best_svm_model.support_vectors_)\n",
        "\n",
        "# Print the results\n",
        "print(f\"Best Parameters: {best_params}\")\n",
        "print(f\"Accuracy on training set: {train_accuracy:.2f}\")\n",
        "print(f\"Accuracy on test set: {test_accuracy:.2f}\")\n",
        "print(f\"Number of support vectors: {support_vectors_count}\")"
      ],
      "metadata": {
        "colab": {
          "base_uri": "https://localhost:8080/"
        },
        "id": "UJkTg3Utqqux",
        "outputId": "83f05be3-865a-436e-9b85-7279093dd36e"
      },
      "execution_count": 5,
      "outputs": [
        {
          "output_type": "stream",
          "name": "stdout",
          "text": [
            "Best Parameters: {'C': 10000000, 'gamma': 1e-08}\n",
            "Accuracy on training set: 0.79\n",
            "Accuracy on test set: 0.75\n",
            "Number of support vectors: 1060\n"
          ]
        }
      ]
    },
    {
      "cell_type": "markdown",
      "source": [
        "## C"
      ],
      "metadata": {
        "id": "gZv2geo4qtJt"
      }
    },
    {
      "cell_type": "code",
      "source": [
        "poly_svm_model = SVC(kernel='poly', probability=True)\n",
        "\n",
        "# Define the parameter grid for polynomial kernel\n",
        "poly_param_grid = {\n",
        "    'C': [1000 * 10**n for n in range(5)],\n",
        "    'gamma': [1e-10 * 10**n for n in range(3)],\n",
        "    'degree': [2, 3]\n",
        "}\n",
        "\n",
        "# Use GridSearchCV to find the best parameters for polynomial kernel\n",
        "poly_grid_search = GridSearchCV(poly_svm_model, poly_param_grid, cv=5, scoring='accuracy')\n",
        "poly_grid_search.fit(valid_X, valid_y)\n",
        "\n",
        "# Get the best parameters for polynomial kernel\n",
        "best_poly_params = poly_grid_search.best_params_\n"
      ],
      "metadata": {
        "id": "Z7pZ0eI7qvnu"
      },
      "execution_count": 7,
      "outputs": []
    },
    {
      "cell_type": "code",
      "source": [
        "best_poly_svm_model = SVC(kernel='poly', C=best_poly_params['C'], degree=best_poly_params['degree'], probability=True)\n",
        "best_poly_svm_model.fit(train_X, train_y)\n",
        "\n",
        "train_poly_predictions = best_poly_svm_model.predict(train_X)\n",
        "test_poly_predictions = best_poly_svm_model.predict(test_X)\n",
        "\n",
        "\n",
        "# Calculate accuracy on training and test sets for both models\n",
        "train_poly_accuracy = accuracy_score(train_y, train_poly_predictions)\n",
        "test_poly_accuracy = accuracy_score(test_y, test_poly_predictions)\n",
        "\n",
        "\n",
        "# Number of support vectors for both models\n",
        "support_vectors_poly_count = len(best_poly_svm_model.support_vectors_)\n",
        "\n",
        "\n",
        "# Print the results\n",
        "print(\"Results for Polynomial Kernel:\")\n",
        "print(f\"Best Parameters: {best_poly_params}\")\n",
        "print(f\"Accuracy on training set: {train_poly_accuracy:.2f}\")\n",
        "print(f\"Accuracy on test set: {test_poly_accuracy:.2f}\")\n",
        "print(f\"Number of support vectors: {support_vectors_poly_count}\\n\")\n",
        "\n",
        "print(\"Results for RBF Kernel:\")\n",
        "print(f\"Best Parameters: {best_params}\")\n",
        "print(f\"Accuracy on training set: {train_accuracy:.2f}\")\n",
        "print(f\"Accuracy on test set: {test_accuracy:.2f}\")\n",
        "print(f\"Number of support vectors: {support_vectors_count}\")\n"
      ],
      "metadata": {
        "colab": {
          "base_uri": "https://localhost:8080/"
        },
        "id": "-GpmCA2Crfcc",
        "outputId": "54221d81-78e7-42a8-e22d-2d35886ffcf1"
      },
      "execution_count": 9,
      "outputs": [
        {
          "output_type": "stream",
          "name": "stdout",
          "text": [
            "Results for Polynomial Kernel:\n",
            "Best Parameters: {'C': 10000000, 'degree': 3, 'gamma': 1e-08}\n",
            "Accuracy on training set: 0.77\n",
            "Accuracy on test set: 0.74\n",
            "Number of support vectors: 1064\n",
            "\n",
            "Results for RBF Kernel:\n",
            "Best Parameters: {'C': 10000000, 'gamma': 1e-08}\n",
            "Accuracy on training set: 0.79\n",
            "Accuracy on test set: 0.75\n",
            "Number of support vectors: 1060\n"
          ]
        }
      ]
    },
    {
      "cell_type": "markdown",
      "source": [
        "## D"
      ],
      "metadata": {
        "id": "baLSEvg8rnyE"
      }
    },
    {
      "cell_type": "code",
      "source": [
        "# Train the model with the best parameters on the entire training set\n",
        "best_svm_model = SVC(kernel='rbf', C=best_params['C'], gamma=best_params['gamma'], probability=True)\n",
        "best_svm_model.fit(train_X, train_y)\n",
        "\n",
        "# Predictions on training and test sets\n",
        "train_predictions = best_svm_model.predict(train_X)\n",
        "test_predictions = best_svm_model.predict(test_X)\n",
        "\n",
        "# Calculate accuracy on training and test sets\n",
        "train_accuracy = accuracy_score(train_y, train_predictions)\n",
        "test_accuracy = accuracy_score(test_y, test_predictions)\n",
        "\n",
        "# Number of support vectors\n",
        "support_vectors_count = len(best_svm_model.support_vectors_)\n",
        "\n",
        "print(\"Results for RBF Kernel:\")\n",
        "print(f\"Best Parameters: {best_params}\")\n",
        "print(f\"Accuracy on training set: {train_accuracy:.2f}\")\n",
        "print(f\"Accuracy on test set: {test_accuracy:.2f}\")\n",
        "print(f\"Number of support vectors: {support_vectors_count}\")"
      ],
      "metadata": {
        "colab": {
          "base_uri": "https://localhost:8080/"
        },
        "id": "6aZFMxjkrmuz",
        "outputId": "55530c5e-4510-46c6-9e9f-51e4b46a8ab5"
      },
      "execution_count": 7,
      "outputs": [
        {
          "output_type": "stream",
          "name": "stdout",
          "text": [
            "Results for RBF Kernel:\n",
            "Best Parameters: {'C': 10000000, 'gamma': 1e-08}\n",
            "Accuracy on training set: 0.79\n",
            "Accuracy on test set: 0.75\n",
            "Number of support vectors: 1060\n"
          ]
        }
      ]
    },
    {
      "cell_type": "markdown",
      "source": [
        "## E"
      ],
      "metadata": {
        "id": "6dfcohZuFZUT"
      }
    },
    {
      "cell_type": "code",
      "source": [
        "\n",
        "\n",
        "# Train the model with the best parameters on the entire training set\n",
        "best_svm_model = SVC(C=best_params['C'], gamma=best_params['gamma'], probability=True)\n",
        "best_svm_model.fit(train_X, train_y)\n",
        "\n",
        "# Predictions on training and test sets\n",
        "train_predictions = best_svm_model.predict(train_X)\n",
        "test_predictions = best_svm_model.predict(test_X)\n",
        "\n",
        "# Calculate accuracy on training and test sets\n",
        "train_accuracy = accuracy_score(train_y, train_predictions)\n",
        "test_accuracy = accuracy_score(test_y, test_predictions)\n",
        "\n",
        "# Number of support vectors\n",
        "support_vectors_count = len(best_svm_model.support_vectors_)\n",
        "\n",
        "# Print the results\n",
        "print(f\"Best Parameters: {best_params}\")\n",
        "print(f\"Accuracy on training set: {train_accuracy:.2f}\")\n",
        "print(f\"Accuracy on test set: {test_accuracy:.2f}\")\n",
        "print(f\"Number of support vectors: {support_vectors_count}\")\n",
        "\n",
        "# Cross-validation scores\n",
        "cv_scores = cross_val_score(best_svm_model, X, y, cv=3)\n",
        "print(f\"Cross-Validation Scores: {cv_scores}\")\n"
      ],
      "metadata": {
        "colab": {
          "base_uri": "https://localhost:8080/"
        },
        "id": "q144lx3YEKIU",
        "outputId": "4b463879-656a-42a1-c5a4-bbfacd57f256"
      },
      "execution_count": 9,
      "outputs": [
        {
          "output_type": "stream",
          "name": "stdout",
          "text": [
            "Best Parameters: {'C': 10000000, 'gamma': 1e-08}\n",
            "Accuracy on training set: 0.79\n",
            "Accuracy on test set: 0.75\n",
            "Number of support vectors: 1060\n",
            "Cross-Validation Scores: [0.76135593 0.77559322 0.73405699]\n"
          ]
        }
      ]
    },
    {
      "cell_type": "markdown",
      "source": [
        "# Q2"
      ],
      "metadata": {
        "id": "L-NpAUKPH8CQ"
      }
    },
    {
      "cell_type": "markdown",
      "source": [
        "## A"
      ],
      "metadata": {
        "id": "mWrEp45XK6Z3"
      }
    },
    {
      "cell_type": "code",
      "source": [
        "\n",
        "df = pd.read_csv('Fuel Consumption.csv')\n",
        "\n",
        "train_df, test_df = train_test_split(df, test_size=0.2, random_state=42)\n",
        "train_df, val_df = train_test_split(train_df, test_size=0.25, random_state=42)\n",
        "\n",
        "X_train, y_train = train_df[['ENGINESIZE']], train_df['FUELCONSUMPTION_COMB']\n",
        "X_val, y_val = val_df[['ENGINESIZE']], val_df['FUELCONSUMPTION_COMB']\n",
        "X_test, y_test = test_df[['ENGINESIZE']], test_df['FUELCONSUMPTION_COMB']\n",
        "\n",
        "linear_svr_model = SVR(kernel='linear')\n",
        "linear_svr_model.fit(X_train, y_train)\n",
        "\n",
        "y_train_pred = linear_svr_model.predict(X_train)\n",
        "y_val_pred = linear_svr_model.predict(X_val)\n",
        "y_test_pred = linear_svr_model.predict(X_test)\n",
        "\n",
        "mae_train = mean_absolute_error(y_train, y_train_pred)\n",
        "mae_val = mean_absolute_error(y_val, y_val_pred)\n",
        "mae_test = mean_absolute_error(y_test, y_test_pred)\n",
        "\n",
        "r2_train = r2_score(y_train, y_train_pred)\n",
        "r2_val = r2_score(y_val, y_val_pred)\n",
        "r2_test = r2_score(y_test, y_test_pred)\n",
        "\n",
        "# گزارش دقت مدل\n",
        "print(\"Performance on Train Set:\")\n",
        "print(f\"Mean Absolute Error (MAE): {mae_train:.2f}\")\n",
        "print(f\"R-squared (R2): {r2_train:.2f}\")\n",
        "\n",
        "print(\"\\nPerformance on Validation Set:\")\n",
        "print(f\"Mean Absolute Error (MAE): {mae_val:.2f}\")\n",
        "print(f\"R-squared (R2): {r2_val:.2f}\")\n",
        "\n",
        "print(\"\\nPerformance on Test Set:\")\n",
        "print(f\"Mean Absolute Error (MAE): {mae_test:.2f}\")\n",
        "print(f\"R-squared (R2): {r2_test:.2f}\")"
      ],
      "metadata": {
        "colab": {
          "base_uri": "https://localhost:8080/"
        },
        "id": "TCOd4FgEGyee",
        "outputId": "1cf589ee-ab2c-4ee5-efaa-dcdcc73e1728"
      },
      "execution_count": 18,
      "outputs": [
        {
          "output_type": "stream",
          "name": "stdout",
          "text": [
            "Performance on Train Set:\n",
            "Mean Absolute Error (MAE): 1.34\n",
            "R-squared (R2): 0.69\n",
            "\n",
            "Performance on Validation Set:\n",
            "Mean Absolute Error (MAE): 1.39\n",
            "R-squared (R2): 0.62\n",
            "\n",
            "Performance on Test Set:\n",
            "Mean Absolute Error (MAE): 1.44\n",
            "R-squared (R2): 0.65\n"
          ]
        }
      ]
    },
    {
      "cell_type": "markdown",
      "source": [
        "## B"
      ],
      "metadata": {
        "id": "3hL4_d6RK-za"
      }
    },
    {
      "cell_type": "code",
      "source": [
        "nonlinear_svr_model = SVR(kernel='rbf')\n",
        "nonlinear_svr_model.fit(X_train, y_train)\n",
        "\n",
        "y_train_pred = nonlinear_svr_model.predict(X_train)\n",
        "y_val_pred = nonlinear_svr_model.predict(X_val)\n",
        "y_test_pred = nonlinear_svr_model.predict(X_test)\n",
        "\n",
        "mae_train = mean_absolute_error(y_train, y_train_pred)\n",
        "mae_val = mean_absolute_error(y_val, y_val_pred)\n",
        "mae_test = mean_absolute_error(y_test, y_test_pred)\n",
        "\n",
        "r2_train = r2_score(y_train, y_train_pred)\n",
        "r2_val = r2_score(y_val, y_val_pred)\n",
        "r2_test = r2_score(y_test, y_test_pred)\n",
        "\n",
        "print(\"Performance on Train Set:\")\n",
        "print(f\"Mean Absolute Error (MAE): {mae_train:.2f}\")\n",
        "print(f\"R-squared (R2): {r2_train:.2f}\")\n",
        "\n",
        "print(\"\\nPerformance on Validation Set:\")\n",
        "print(f\"Mean Absolute Error (MAE): {mae_val:.2f}\")\n",
        "print(f\"R-squared (R2): {r2_val:.2f}\")\n",
        "\n",
        "print(\"\\nPerformance on Test Set:\")\n",
        "print(f\"Mean Absolute Error (MAE): {mae_test:.2f}\")\n",
        "print(f\"R-squared (R2): {r2_test:.2f}\")"
      ],
      "metadata": {
        "colab": {
          "base_uri": "https://localhost:8080/"
        },
        "id": "A2D2ktQEK_zF",
        "outputId": "ce4ded9d-313b-4019-d0b3-0b7b1f078c07"
      },
      "execution_count": 19,
      "outputs": [
        {
          "output_type": "stream",
          "name": "stdout",
          "text": [
            "Performance on Train Set:\n",
            "Mean Absolute Error (MAE): 1.31\n",
            "R-squared (R2): 0.69\n",
            "\n",
            "Performance on Validation Set:\n",
            "Mean Absolute Error (MAE): 1.38\n",
            "R-squared (R2): 0.64\n",
            "\n",
            "Performance on Test Set:\n",
            "Mean Absolute Error (MAE): 1.43\n",
            "R-squared (R2): 0.67\n"
          ]
        }
      ]
    }
  ]
}